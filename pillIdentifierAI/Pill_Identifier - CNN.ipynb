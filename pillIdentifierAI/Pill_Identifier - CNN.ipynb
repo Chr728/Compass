{
 "cells": [
  {
   "cell_type": "markdown",
   "metadata": {},
   "source": [
    "# Imports"
   ]
  },
  {
   "cell_type": "code",
   "execution_count": null,
   "metadata": {},
   "outputs": [],
   "source": [
    "# system imports\n",
    "import random\n",
    "from pathlib import Path\n",
    "import pickle\n",
    "\n",
    "# data analysis imports\n",
    "import numpy as np\n",
    "import logging\n",
    "\n",
    "# pytorch imports\n",
    "import torch\n",
    "import torch.nn as nn\n",
    "from torch.nn import Conv2d\n",
    "from torch.nn import ReLU\n",
    "from torch.nn.functional import cross_entropy\n",
    "from torch.optim import Adam\n",
    "from torch import tensor\n",
    "softmax = nn.functional.softmax"
   ]
  },
  {
   "cell_type": "markdown",
   "metadata": {},
   "source": [
    "# Constants"
   ]
  },
  {
   "cell_type": "code",
   "execution_count": null,
   "metadata": {},
   "outputs": [],
   "source": [
    "num_epochs = 10"
   ]
  },
  {
   "cell_type": "markdown",
   "metadata": {},
   "source": [
    "# Model Architecture"
   ]
  },
  {
   "cell_type": "code",
   "execution_count": null,
   "metadata": {},
   "outputs": [],
   "source": [
    "class PillAI(nn.module):\n",
    "  def __init__(self, input_shape):\n",
    "    super().__init__()\n",
    "    self.conv1 = Conv2d(in_channels=input_shape[0], out_channels=8, kernel_size=(7, 7), stride=1)\n",
    "    self.conv2 = Conv2d(in_channels=8, out_channels=16, kernel_size=7, stride=1)\n",
    "    self.conv3 = Conv2d(in_channels=16, out_channels=32, kernel_size=7, stride=1)\n",
    "    self.batchnorm1 = nn.BatchNorm2d(num_features=8)\n",
    "    self.batchnorm2 = nn.BatchNorm2d(num_features=16)\n",
    "    self.batchnorm3 = nn.BatchNorm2d(num_features=32)\n",
    "    self.maxpool = nn.MaxPool2d(kernel_size=2)\n",
    "    self.dense = nn.Linear(in_features = 21632, out_features = 5, bias=False)\n",
    "  \n",
    "  def __call__(self, x):\n",
    "    pass1 = self.batchnorm1(self.maxpool(ReLU(self.conv1(x.float()))))\n",
    "    pass2 = self.batchnorm2(self.maxpool(ReLU(self.conv1(pass1.float()))))\n",
    "    pass3 = self.batchnorm3(self.maxpool(ReLU(self.conv1(pass2.float()))))\n",
    "    pass3 = torch.reshape(pass3, (32, 21632))\n",
    "    return softmax(self.dense(pass3))\n",
    "  \n",
    "  def parameters(self):\n",
    "    return list(self.conv1.parameters()) + list(self.conv2.parameters()) + list(self.conv3.parameters())"
   ]
  },
  {
   "cell_type": "code",
   "execution_count": null,
   "metadata": {},
   "outputs": [],
   "source": [
    "def accuracy(output, target):\n",
    "  return np.mean(np.argmax(output, axis=1) == target)"
   ]
  }
 ],
 "metadata": {
  "kernelspec": {
   "display_name": "Python 3",
   "language": "python",
   "name": "python3"
  },
  "language_info": {
   "name": "python",
   "version": "3.11.8"
  },
  "nbdime-conflicts": {
   "local_diff": [
    {
     "key": "language_info",
     "op": "add",
     "value": {
      "name": "python",
      "version": "3.11.8"
     }
    }
   ],
   "remote_diff": [
    {
     "key": "language_info",
     "op": "add",
     "value": {
      "codemirror_mode": {
       "name": "ipython",
       "version": 3
      },
      "file_extension": ".py",
      "mimetype": "text/x-python",
      "name": "python",
      "nbconvert_exporter": "python",
      "pygments_lexer": "ipython3",
      "version": "3.11.8"
     }
    }
   ]
  }
 },
 "nbformat": 4,
 "nbformat_minor": 2
}
