{
 "cells": [
  {
   "cell_type": "markdown",
   "metadata": {
    "id": "03mxFGNIXVqF"
   },
   "source": [
    "# Pill Identifier Machine Learning Model and API\n",
    "All pills and tablets have a unique combination of features that allow them to be identified. \n",
    "These features are its color, its shape, and imprints made in front and/or at the back of the drug.\n",
    "\n",
    "This model will utilize [insert model here] for image classification.\n",
    "\n",
    "[more details to be added]"
   ]
  },
  {
   "cell_type": "markdown",
   "metadata": {
    "id": "e7SczRM2XJyN"
   },
   "source": [
    "# Imports, Declarations, and Globals"
   ]
  },
  {
   "cell_type": "code",
   "execution_count": 6,
   "metadata": {
    "ExecuteTime": {
     "end_time": "2024-01-04T22:33:19.468412Z",
     "start_time": "2024-01-04T22:33:19.452571Z"
    },
    "id": "YSVBXMIEXQLa"
   },
   "outputs": [],
   "source": [
    "import tensorflow as tf\n",
    "from tensorflow import keras\n",
    "import matplotlib.pyplot as plt     # to plot charts\n",
    "import numpy as np\n",
    "import numba as nb                  # to optimize any mathematics\n",
    "import pickle as pkl                # to save our model\n",
    "import sklearn                      # for dataset splitting and metrics\n",
    "import pandas as pd                 # for data manipulation\n",
    "# import cv2                          # for image processing\n",
    "#TODO uncomment when ready\n",
    "\n",
    "# sklearn imports for metrics and dataset splitting\n",
    "from sklearn.metrics import classification_report, accuracy_score\n",
    "from sklearn.model_selection import train_test_split\n",
    "from sklearn.metrics import ConfusionMatrixDisplay\n",
    "from sklearn.preprocessing import LabelEncoder\n",
    "\n",
    "# keras imports for image preprocessing\n",
    "from keras.preprocessing.image import img_to_array\n",
    "from keras.preprocessing.image import ImageDataGenerator\n",
    "from keras.preprocessing.image import load_img\n",
    "from keras.utils import to_categorical\n",
    "\n",
    "# keras imports for model building \n",
    "\n",
    "# keras imports for early stoppage and model checkpointing\n",
    "from keras.callbacks import ModelCheckpoint\n",
    "from keras.callbacks import EarlyStopping, ReduceLROnPlateau\n",
    "import torchvision.transforms as transforms"
   ]
  },
  {
   "cell_type": "markdown",
   "metadata": {
    "id": "qeJN4BQ3dF0H"
   },
   "source": [
    "# Helper Functions"
   ]
  },
  {
   "cell_type": "code",
   "execution_count": null,
   "metadata": {
    "ExecuteTime": {
     "end_time": "2024-01-04T22:33:19.493542Z",
     "start_time": "2024-01-04T22:33:19.470709Z"
    },
    "id": "WC-oRwKNdOqu"
   },
   "outputs": [],
   "source": []
  },
  {
   "cell_type": "markdown",
   "metadata": {
    "id": "54DLyRiiXkpH"
   },
   "source": [
    "# Data Acquisition\n",
    "Retrieves the images from our dataset and stores them in memory.\n",
    "Corresponding labels are retrieved, as well."
   ]
  },
  {
   "cell_type": "code",
   "execution_count": 7,
   "metadata": {
    "ExecuteTime": {
     "start_time": "2024-01-04T22:33:19.475366Z"
    },
    "colab": {
     "base_uri": "https://localhost:8080/"
    },
    "id": "zg9m_GC-zWMu",
    "is_executing": true,
    "outputId": "9cb4cc80-cc39-4af9-8cde-1902baa34c7d"
   },
   "outputs": [
    {
     "name": "stdout",
     "output_type": "stream",
     "text": [
      "Image: b'00093-0311-01_RXNAVIMAGE10_26211358.jpg'\n",
      "Label: Loperamide Hydrochloride 2 MG Oral Capsule\n",
      "\n",
      "Image: b'00093-3165-01_RXNAVIMAGE10_36231B28.jpg'\n",
      "Label: Minocycline 50 MG Oral Capsule\n",
      "\n",
      "Image: b'00093-0810-01_RXNAVIMAGE10_24231228.jpg'\n",
      "Label: Nortriptyline 10 MG Oral Capsule\n",
      "\n",
      "Image: b'00093-0811-01_RXNAVIMAGE10_20231018.jpg'\n",
      "Label: Nortriptyline 25 MG Oral Capsule\n",
      "\n",
      "Image: b'00093-0812-01_RXNAVIMAGE10_2D2316D8.jpg'\n",
      "Label: Nortriptyline 50 MG Oral Capsule\n",
      "\n"
     ]
    }
   ],
   "source": [
    "directory = \"dataset\"\n",
    "img_height = 120\n",
    "img_width = 120\n",
    "batch_size=32\n",
    "\n",
    "# read the csv file with labels\n",
    "csv_file = \"table.csv\"\n",
    "df = pd.read_csv(csv_file)\n",
    "\n",
    "# encode the labels\n",
    "label_encoder = LabelEncoder()\n",
    "df[\"encoded_label\"] = label_encoder.fit_transform(df[\"name\"])\n",
    "\n",
    "# create a dataset from the dataframe\n",
    "image_paths = df[\"rxnavImageFileName\"].values\n",
    "labels = df[\"encoded_label\"].values\n",
    "dataset = tf.data.Dataset.from_tensor_slices((image_paths, labels))\n",
    "\n",
    "# print the first 5 image paths and decoded labels\n",
    "for image, label in dataset.take(5):\n",
    "  print(\"Image:\", image.numpy())\n",
    "  print(\"Label:\", label_encoder.inverse_transform([label.numpy()])[0])\n",
    "  print()"
   ]
  },
  {
   "cell_type": "code",
   "execution_count": 8,
   "metadata": {
    "ExecuteTime": {
     "start_time": "2024-01-04T22:33:19.538324Z"
    },
    "is_executing": true
   },
   "outputs": [],
   "source": [
    "def load_images(path, label):\n",
    "  image = tf.io.read_file(directory + '/' + path)\n",
    "  image = tf.image.decode_jpeg(image, channels=3)\n",
    "  image = tf.image.resize(image, [256, 256])\n",
    "  image /= 255.0 \n",
    "  return image, label\n",
    "\n",
    "dataset = dataset.map(load_images)"
   ]
  },
  {
   "cell_type": "code",
   "execution_count": null,
   "metadata": {
    "is_executing": true
   },
   "outputs": [],
   "source": [
    "# display the first 9 images and their labels\n",
    "plt.figure(figsize=(10, 10))\n",
    "for i, (image, label) in enumerate(dataset.take(9)):\n",
    "  ax = plt.subplot(3, 3, i + 1)\n",
    "  plt.imshow(image)\n",
    "  plt.title(label_encoder.inverse_transform([label.numpy()])[0])\n",
    "  plt.axis(\"off\")"
   ]
  },
  {
   "cell_type": "markdown",
   "metadata": {
    "id": "-Nm5cEhnXQrY"
   },
   "source": [
    "# Data Augmentation and Preprocessing\n",
    "Because each pill/tablet only has one picture, the data set in itself is not ideal.\n",
    "To improve the quality of the data set, and that of the model, we augment the data.\n",
    "We do this by transforming the image, mimicking how an actual user may take a picture.\n",
    "That is, the image can be brightened, resized, rotated, sheared, cropped, and etc. Other processes are also performed to improve training of the model such as splitting the data into a training set and testing set."
   ]
  },
  {
   "cell_type": "code",
   "execution_count": null,
   "metadata": {
    "id": "qxGoMZM6Xpo9",
    "is_executing": true
   },
   "outputs": [],
   "source": [
    "#Splitting dataset into 80/20\n",
    "training_dataframe, testing_dataframe = train_test_split(dataset_df, test_size = 0.2, random_state = 42)\n",
    "\n",
    "\n",
    "#Data Geneartion train and test\n",
    "train_data = ImageDataGenerator(\n",
    "    rotation_range = 60,\n",
    "    rescale = 1./255,\n",
    "    shear_range = 0.3,\n",
    "    zoom_range = 0.5,\n",
    "    vertical_flip = True,\n",
    "    horizontal_flip = True,\n",
    "    width_shift_range = 0.3,\n",
    "    height_shift_range = 0.3\n",
    ")\n",
    "\n",
    "test_data = ImageDataGenerator(\n",
    "    rescale = 1./255\n",
    ")\n",
    "\n",
    "#Train generation\n",
    "train_generator = train_data.flow_from_dataframe(\n",
    "    training_dataframe,\n",
    "    \"dataset\",\n",
    "    target_size = (img_height, img_width),\n",
    "    batch_size = batch_size,\n",
    "    x_col = \"filename\",\n",
    "    y_col = \"label\",\n",
    "    class_mode=\"categorical\",\n",
    ")\n",
    "\n",
    "#Test generation\n",
    "test_generator = test_data.flow_from_dataframe(\n",
    "    testing_dataframe,\n",
    "    \"dataset\",\n",
    "    target_size = (img_height, img_width),\n",
    "    batch_size = batch_size,\n",
    "    x_col = \"filename\",\n",
    "    y_col = \"label\",\n",
    "    class_mode=\"categorical\",\n",
    ")"
   ]
  },
  {
   "cell_type": "markdown",
   "metadata": {
    "id": "7-ZGIIlGXqWY"
   },
   "source": [
    "# Filtering\n",
    "Using OpenCV, we filter out any artifacts (i.e. background, lens flares, graininess, etc.) and extract the features necessary for identification."
   ]
  },
  {
   "cell_type": "code",
   "execution_count": null,
   "metadata": {
    "id": "X28VD5zqX9Pu",
    "is_executing": true
   },
   "outputs": [],
   "source": [
    "# apply thresholding to a color image\n",
    "def thresholding(img):\n",
    "  # Split the image into the B,G,R components\n",
    "  b, g, r = cv2.split(img)\n",
    "\n",
    "  # Apply thresholding to each channel\n",
    "  _, b = cv2.threshold(b, 0, 255, cv2.THRESH_BINARY + cv2.THRESH_OTSU)\n",
    "  _, g = cv2.threshold(g, 0, 255, cv2.THRESH_BINARY + cv2.THRESH_OTSU)\n",
    "  _, r = cv2.threshold(r, 0, 255, cv2.THRESH_BINARY + cv2.THRESH_OTSU)\n",
    "\n",
    "  # Merge the channels\n",
    "  thresholded = cv2.merge([b, g, r])\n",
    "\n",
    "  return thresholded"
   ]
  },
  {
   "cell_type": "markdown",
   "metadata": {
    "id": "4zW9RMHnXyhu"
   },
   "source": [
    "# Hyperparameter Search\n",
    "To ensure the best set of hyperparameters used by the model, we enable hyperparameter search prior to training the model. This exhaustively searches the best combination of hyperparameters to be used for training.\n"
   ]
  },
  {
   "cell_type": "code",
   "execution_count": null,
   "metadata": {
    "id": "XICqDptZYCI2",
    "is_executing": true
   },
   "outputs": [],
   "source": []
  },
  {
   "cell_type": "markdown",
   "metadata": {
    "id": "JzwPHUrRYCdM"
   },
   "source": [
    "# Model Training\n",
    "We train the model using the best hyperparameters on the training set."
   ]
  },
  {
   "cell_type": "code",
   "execution_count": null,
   "metadata": {
    "id": "OPRUvkuFYEMb",
    "is_executing": true
   },
   "outputs": [],
   "source": []
  },
  {
   "cell_type": "markdown",
   "metadata": {
    "id": "E0FQOqnPYEg1"
   },
   "source": [
    "# Model Testing\n",
    "We test the model on the test set, to validate training."
   ]
  },
  {
   "cell_type": "code",
   "execution_count": 5,
   "metadata": {
    "ExecuteTime": {
     "end_time": "2024-01-04T22:33:19.579586Z",
     "start_time": "2024-01-04T22:33:19.575141Z"
    },
    "id": "DY-agOPSYHTz"
   },
   "outputs": [],
   "source": []
  },
  {
   "cell_type": "markdown",
   "metadata": {
    "id": "7bWzoJ-yYHsD"
   },
   "source": [
    "# Save the Model\n",
    "We serialize the model for checkpointing and for later use."
   ]
  },
  {
   "cell_type": "code",
   "execution_count": 5,
   "metadata": {
    "ExecuteTime": {
     "end_time": "2024-01-04T22:33:19.579917Z",
     "start_time": "2024-01-04T22:33:19.576933Z"
    },
    "id": "yQvYHhG1YJ3D"
   },
   "outputs": [],
   "source": []
  },
  {
   "cell_type": "markdown",
   "metadata": {
    "id": "hvkLV3hsYYKm"
   },
   "source": [
    "# Predict\n",
    "Utilizing the model, we predict the label of an image and produce up to five responses with their corresponding relevance scores."
   ]
  },
  {
   "cell_type": "code",
   "execution_count": 5,
   "metadata": {
    "ExecuteTime": {
     "end_time": "2024-01-04T22:33:19.584350Z",
     "start_time": "2024-01-04T22:33:19.579586Z"
    },
    "id": "y7ra0pG7YXZq"
   },
   "outputs": [],
   "source": []
  }
 ],
 "metadata": {
  "colab": {
   "provenance": []
  },
  "kernelspec": {
   "display_name": "Python 3 (ipykernel)",
   "language": "python",
   "name": "python3"
  },
  "language_info": {
   "codemirror_mode": {
    "name": "ipython",
    "version": 3
   },
   "file_extension": ".py",
   "mimetype": "text/x-python",
   "name": "python",
   "nbconvert_exporter": "python",
   "pygments_lexer": "ipython3",
   "version": "3.9.6"
  }
 },
 "nbformat": 4,
 "nbformat_minor": 1
}
