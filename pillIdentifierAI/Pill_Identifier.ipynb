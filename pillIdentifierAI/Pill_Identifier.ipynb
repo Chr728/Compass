{
  "cells": [
    {
      "cell_type": "markdown",
      "metadata": {
        "id": "03mxFGNIXVqF"
      },
      "source": [
        "# Pill Identifier Machine Learning Model and API\n",
        "All pills and tablets have a unique combination of features that allow them to be identified. \n",
        "These features are its color, its shape, and imprints made in front and/or at the back of the drug.\n",
        "\n",
        "This model will utilize [insert model here] for image classification.\n",
        "\n",
        "[more details to be added]"
      ]
    },
    {
      "cell_type": "markdown",
      "metadata": {
        "id": "e7SczRM2XJyN"
      },
      "source": [
        "# Imports, Declarations, and Globals"
      ]
    },
    {
      "cell_type": "code",
      "execution_count": null,
      "metadata": {
        "id": "YSVBXMIEXQLa"
      },
      "outputs": [],
      "source": [
        "import tensorflow as tf\n",
        "from tensorflow import keras\n",
        "import matplotlib.pyplot as plt     # to plot charts\n",
        "import numpy as np\n",
        "import numba as nb                  # to optimize any mathematics\n",
        "import pickle as pkl                # to save our model\n",
        "import cv2                          # to filter image artifacts\n",
        "import sklearn                      # for dataset splitting and metrics\n",
        "\n",
        "# sklearn imports for metrics and dataset splitting\n",
        "from sklearn.metrics import classification_report, accuracy_score\n",
        "from sklearn.model_selection import train_test_split\n",
        "from sklearn.metrics import plot_confusion_matrix\n",
        "\n",
        "# keras imports for image preprocessing\n",
        "from keras.preprocessing.image import img_to_array\n",
        "from keras.preprocessing.image import ImageDataGenerator\n",
        "from keras.preprocessing.image import load_img\n",
        "from keras.utils import to_categorical\n",
        "\n",
        "# keras imports for model building \n",
        "\n",
        "# keras imports for early stoppage and model checkpointing\n",
        "from keras.callbacks import ModelCheckpoint\n",
        "from keras.callbacks import EarlyStopping, ReduceLROnPlateau\n",
        "\n",
        "from enum import Enum\n",
        "\n",
        "# may no longer be needed depending on how we build the model\n",
        "class Colors(Enum):\n",
        "  White = \"FFFFFF\"\n",
        "  Offwhite = \"F4F4F4\"\n",
        "  Clear = \"\"\n",
        "  Gray = \"808080\"\n",
        "  Black = \"000000\"\n",
        "  Tan = \"D2B48D\"\n",
        "  Brown = \"996633\"\n",
        "  Red = \"FF0000\"\n",
        "  Orange = \"FF8000\"\n",
        "  Peach = \"FFDAB9\"\n",
        "  Yellow = \"F0F00A\"\n",
        "  Gold = \"FFD700\"\n",
        "  Green = \"0AEE08\"\n",
        "  Turquoise = \"09FEDD\"\n",
        "  Blue = \"3768F6\"\n",
        "  Purple = \"730996\"\n",
        "  Pink = \"FF69B4\"\n",
        "  Multicolor = \"\""
      ]
    },
    {
      "cell_type": "markdown",
      "metadata": {
        "id": "qeJN4BQ3dF0H"
      },
      "source": [
        "# Helper Functions"
      ]
    },
    {
      "cell_type": "code",
      "execution_count": null,
      "metadata": {
        "id": "WC-oRwKNdOqu"
      },
      "outputs": [],
      "source": []
    },
    {
      "cell_type": "markdown",
      "metadata": {
        "id": "54DLyRiiXkpH"
      },
      "source": [
        "# Data Acquisition"
      ]
    },
    {
      "cell_type": "code",
      "execution_count": null,
      "metadata": {
        "colab": {
          "base_uri": "https://localhost:8080/"
        },
        "id": "zg9m_GC-zWMu",
        "outputId": "9cb4cc80-cc39-4af9-8cde-1902baa34c7d"
      },
      "outputs": [],
      "source": []
    },
    {
      "cell_type": "markdown",
      "metadata": {
        "id": "-Nm5cEhnXQrY"
      },
      "source": [
        "# Preprocessing"
      ]
    },
    {
      "cell_type": "code",
      "execution_count": null,
      "metadata": {
        "id": "qxGoMZM6Xpo9"
      },
      "outputs": [],
      "source": []
    },
    {
      "cell_type": "markdown",
      "metadata": {
        "id": "7-ZGIIlGXqWY"
      },
      "source": [
        "# Filtering\n",
        "Using OpenCV, filter out any artifacts (i.e. background, lens flares, graininess, etc.) and extract the features necessary for identification."
      ]
    },
    {
      "cell_type": "code",
      "execution_count": null,
      "metadata": {
        "id": "X28VD5zqX9Pu"
      },
      "outputs": [],
      "source": [
        "# apply thresholding to a color image\n",
        "def thresholding(img):\n",
        "  # Split the image into the B,G,R components\n",
        "  b, g, r = cv2.split(img)\n",
        "\n",
        "  # Apply thresholding to each channel\n",
        "  _, b = cv2.threshold(b, 0, 255, cv2.THRESH_BINARY + cv2.THRESH_OTSU)\n",
        "  _, g = cv2.threshold(g, 0, 255, cv2.THRESH_BINARY + cv2.THRESH_OTSU)\n",
        "  _, r = cv2.threshold(r, 0, 255, cv2.THRESH_BINARY + cv2.THRESH_OTSU)\n",
        "\n",
        "  # Merge the channels\n",
        "  thresholded = cv2.merge([b, g, r])\n",
        "\n",
        "  return thresholded\n",
        "\n",
        "def identifyFeatures (img):\n",
        "  # function here"
      ]
    },
    {
      "cell_type": "markdown",
      "metadata": {
        "id": "4zW9RMHnXyhu"
      },
      "source": [
        "# Hyperparameter Search and/or Parameter Setting\n"
      ]
    },
    {
      "cell_type": "code",
      "execution_count": null,
      "metadata": {
        "id": "XICqDptZYCI2"
      },
      "outputs": [],
      "source": []
    },
    {
      "cell_type": "markdown",
      "metadata": {
        "id": "JzwPHUrRYCdM"
      },
      "source": [
        "# Model Training"
      ]
    },
    {
      "cell_type": "code",
      "execution_count": null,
      "metadata": {
        "id": "OPRUvkuFYEMb"
      },
      "outputs": [],
      "source": []
    },
    {
      "cell_type": "markdown",
      "metadata": {
        "id": "E0FQOqnPYEg1"
      },
      "source": [
        "# Model Testing"
      ]
    },
    {
      "cell_type": "code",
      "execution_count": null,
      "metadata": {
        "id": "DY-agOPSYHTz"
      },
      "outputs": [],
      "source": []
    },
    {
      "cell_type": "markdown",
      "metadata": {
        "id": "7bWzoJ-yYHsD"
      },
      "source": [
        "# Save the Model"
      ]
    },
    {
      "cell_type": "code",
      "execution_count": null,
      "metadata": {
        "id": "yQvYHhG1YJ3D"
      },
      "outputs": [],
      "source": []
    },
    {
      "cell_type": "markdown",
      "metadata": {
        "id": "hvkLV3hsYYKm"
      },
      "source": [
        "# Predict"
      ]
    },
    {
      "cell_type": "code",
      "execution_count": null,
      "metadata": {
        "id": "y7ra0pG7YXZq"
      },
      "outputs": [],
      "source": []
    }
  ],
  "metadata": {
    "colab": {
      "provenance": []
    },
    "kernelspec": {
      "display_name": "Python 3",
      "name": "python3"
    },
    "language_info": {
      "name": "python"
    }
  },
  "nbformat": 4,
  "nbformat_minor": 0
}
